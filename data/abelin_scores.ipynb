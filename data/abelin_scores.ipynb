{
 "cells": [
  {
   "cell_type": "code",
   "execution_count": 1,
   "metadata": {
    "collapsed": true
   },
   "outputs": [],
   "source": [
    "import re\n",
    "import pandas as pd\n",
    "import numpy as np\n",
    "from sklearn.metrics import precision_score\n",
    "import json"
   ]
  },
  {
   "cell_type": "code",
   "execution_count": 2,
   "metadata": {},
   "outputs": [
    {
     "name": "stdout",
     "output_type": "stream",
     "text": [
      "2566814\n"
     ]
    },
    {
     "data": {
      "text/html": [
       "<div>\n",
       "<style>\n",
       "    .dataframe thead tr:only-child th {\n",
       "        text-align: right;\n",
       "    }\n",
       "\n",
       "    .dataframe thead th {\n",
       "        text-align: left;\n",
       "    }\n",
       "\n",
       "    .dataframe tbody tr th {\n",
       "        vertical-align: top;\n",
       "    }\n",
       "</style>\n",
       "<table border=\"1\" class=\"dataframe\">\n",
       "  <thead>\n",
       "    <tr style=\"text-align: right;\">\n",
       "      <th></th>\n",
       "      <th>hit</th>\n",
       "      <th>allele</th>\n",
       "      <th>peptide</th>\n",
       "      <th>mhcflurry_1local</th>\n",
       "      <th>netmhc</th>\n",
       "      <th>netmhcpan</th>\n",
       "    </tr>\n",
       "  </thead>\n",
       "  <tbody>\n",
       "    <tr>\n",
       "      <th>0</th>\n",
       "      <td>0</td>\n",
       "      <td>HLAA0203</td>\n",
       "      <td>VGKPEMQQKI</td>\n",
       "      <td>24390.961883</td>\n",
       "      <td>28521.26</td>\n",
       "      <td>29805.9</td>\n",
       "    </tr>\n",
       "    <tr>\n",
       "      <th>1</th>\n",
       "      <td>0</td>\n",
       "      <td>HLAB4403</td>\n",
       "      <td>LERYPKVALRVLF</td>\n",
       "      <td>15158.077039</td>\n",
       "      <td>7484.45</td>\n",
       "      <td>2175.5</td>\n",
       "    </tr>\n",
       "    <tr>\n",
       "      <th>2</th>\n",
       "      <td>0</td>\n",
       "      <td>HLAA0301</td>\n",
       "      <td>AHKRSERLQRAPL</td>\n",
       "      <td>34574.000722</td>\n",
       "      <td>31664.31</td>\n",
       "      <td>31651.3</td>\n",
       "    </tr>\n",
       "    <tr>\n",
       "      <th>3</th>\n",
       "      <td>0</td>\n",
       "      <td>HLAB5401</td>\n",
       "      <td>QLKFAPFKCVVPT</td>\n",
       "      <td>35389.874783</td>\n",
       "      <td>394.80</td>\n",
       "      <td>2328.2</td>\n",
       "    </tr>\n",
       "    <tr>\n",
       "      <th>4</th>\n",
       "      <td>0</td>\n",
       "      <td>HLAA0101</td>\n",
       "      <td>DFLNNLATGLVFIIV</td>\n",
       "      <td>38669.110483</td>\n",
       "      <td>21391.30</td>\n",
       "      <td>24540.4</td>\n",
       "    </tr>\n",
       "  </tbody>\n",
       "</table>\n",
       "</div>"
      ],
      "text/plain": [
       "   hit    allele          peptide  mhcflurry_1local    netmhc  netmhcpan\n",
       "0    0  HLAA0203       VGKPEMQQKI      24390.961883  28521.26    29805.9\n",
       "1    0  HLAB4403    LERYPKVALRVLF      15158.077039   7484.45     2175.5\n",
       "2    0  HLAA0301    AHKRSERLQRAPL      34574.000722  31664.31    31651.3\n",
       "3    0  HLAB5401    QLKFAPFKCVVPT      35389.874783    394.80     2328.2\n",
       "4    0  HLAA0101  DFLNNLATGLVFIIV      38669.110483  21391.30    24540.4"
      ]
     },
     "execution_count": 2,
     "metadata": {},
     "output_type": "execute_result"
    }
   ],
   "source": [
    "df = pd.read_csv(\"abelin_peptides.all_predictions.csv.bz2\", sep=\",\")\n",
    "df = df[[\"hit\", \"allele\", \"peptide\", \"mhcflurry_1local\", \"netmhc\", \"netmhcpan\"]]\n",
    "\n",
    "unify_alleles = lambda x: re.sub('[*|:|-]', '', x)\n",
    "df[\"allele\"] = df[\"allele\"].map(unify_alleles)\n",
    "\n",
    "print(len(df))\n",
    "df.head()"
   ]
  },
  {
   "cell_type": "code",
   "execution_count": 3,
   "metadata": {
    "collapsed": true
   },
   "outputs": [],
   "source": [
    "length_vec = df[\"peptide\"].map(len).values\n",
    "length_list = np.unique(length_vec)\n",
    "column_list = [\"mhcflurry_1local\", \"netmhc\", \"netmhcpan\"]\n",
    "allele_list = np.unique(df[\"allele\"])"
   ]
  },
  {
   "cell_type": "code",
   "execution_count": 4,
   "metadata": {},
   "outputs": [
    {
     "name": "stdout",
     "output_type": "stream",
     "text": [
      "(8, 11)\n",
      "HLAA0101  0.8511   0.817   0.848\n",
      "HLAA0201  0.7045  0.6903  0.7098\n",
      "HLAA0203  0.7531   0.734  0.7239\n",
      "HLAA0204    -0.0    -0.0  0.7022\n",
      "HLAA0207  0.3887  0.4709  0.5778\n",
      "HLAA0301  0.6502  0.6283   0.655\n",
      "HLAA2402  0.7966   0.754  0.7737\n",
      "HLAA2902   0.767  0.7478  0.7682\n",
      "HLAA3101   0.554  0.5434  0.5583\n",
      "HLAA6802  0.6102  0.5999  0.6109\n",
      "HLAB3501  0.7105  0.6934  0.7289\n",
      "HLAB4402  0.7914  0.7579  0.8029\n",
      "HLAB4403  0.8137  0.7612  0.7937\n",
      "HLAB5101  0.7254  0.6846  0.6823\n",
      "HLAB5401  0.6974  0.6741  0.6778\n",
      "HLAB5701  0.7334   0.685  0.7097\n",
      "\n"
     ]
    }
   ],
   "source": [
    "def process(allele_df, column):\n",
    "    n_of_binders = np.where(allele_df[\"hit\"] == 1)[0].shape[0]\n",
    "    pred_df = allele_df.reset_index()\n",
    "    pred_df = pred_df.loc[pred_df[column].argsort(), ]\n",
    "    return pred_df[\"hit\"].values[:n_of_binders].sum() / n_of_binders\n",
    "\n",
    "score_d = {}\n",
    "# for (min_len, max_len) in [(8, 11), (8, 10), (8, 12)] + [(x, x) for x in range(8, 16)]:\n",
    "for (min_len, max_len) in [(8, 11)]:\n",
    "    print((min_len, max_len))\n",
    "    score_d[str((min_len, max_len))] = {}\n",
    "    for allele in allele_list:\n",
    "        scores = []\n",
    "        if allele != \"HLAA0204\":\n",
    "            for col in column_list:\n",
    "                tmp = df.loc[(df[\"allele\"] == allele) & (length_vec >= min_len) & (length_vec <= max_len), ]\n",
    "                scores.append(process(tmp, col))\n",
    "        else:\n",
    "            scores = [-.0, -.0]\n",
    "            tmp = df.loc[(df[\"allele\"] == allele) & (length_vec >= min_len) & (length_vec <= max_len), ]\n",
    "            scores.append(process(tmp, \"netmhcpan\"))\n",
    "        print(\"{:<8} {:>7.4} {:>7.4} {:>7.4}\".format(allele, *scores))\n",
    "        score_d[str((min_len, max_len))][allele] = scores\n",
    "    print()"
   ]
  }
 ],
 "metadata": {
  "kernelspec": {
   "display_name": "Python 3",
   "language": "python",
   "name": "python3"
  },
  "language_info": {
   "codemirror_mode": {
    "name": "ipython",
    "version": 3
   },
   "file_extension": ".py",
   "mimetype": "text/x-python",
   "name": "python",
   "nbconvert_exporter": "python",
   "pygments_lexer": "ipython3",
   "version": "3.5.3"
  }
 },
 "nbformat": 4,
 "nbformat_minor": 2
}
