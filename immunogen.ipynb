{
 "cells": [
  {
   "cell_type": "code",
   "execution_count": 1,
   "metadata": {},
   "outputs": [],
   "source": [
    "%matplotlib inline\n",
    "\n",
    "import pandas as pd\n",
    "import numpy as np\n",
    "from collections import Counter\n",
    "\n",
    "from tqdm import tqdm, trange, tqdm_notebook\n",
    "\n",
    "import torch\n",
    "from torch import nn\n",
    "import torch.optim as optim\n",
    "from torch.autograd import Variable\n",
    "from torch.nn.init import kaiming_uniform as init_ku\n",
    "from torch.utils.data import DataLoader, TensorDataset\n",
    "\n",
    "from sklearn.model_selection import StratifiedShuffleSplit, StratifiedKFold\n",
    "from sklearn.metrics import f1_score, classification_report\n",
    "\n",
    "from feng.data import load_pseudo, load_iedb\n",
    "from feng.models import ResNet"
   ]
  },
  {
   "cell_type": "code",
   "execution_count": 2,
   "metadata": {},
   "outputs": [
    {
     "name": "stdout",
     "output_type": "stream",
     "text": [
      "78397\n"
     ]
    },
    {
     "data": {
      "text/html": [
       "<div>\n",
       "<style scoped>\n",
       "    .dataframe tbody tr th:only-of-type {\n",
       "        vertical-align: middle;\n",
       "    }\n",
       "\n",
       "    .dataframe tbody tr th {\n",
       "        vertical-align: top;\n",
       "    }\n",
       "\n",
       "    .dataframe thead th {\n",
       "        text-align: right;\n",
       "    }\n",
       "</style>\n",
       "<table border=\"1\" class=\"dataframe\">\n",
       "  <thead>\n",
       "    <tr style=\"text-align: right;\">\n",
       "      <th></th>\n",
       "      <th>Epitope ID</th>\n",
       "      <th>Object Type</th>\n",
       "      <th>Description</th>\n",
       "      <th>Epitope Modified Residue(s)</th>\n",
       "      <th>Epitope Modification(s)</th>\n",
       "      <th>Starting Position</th>\n",
       "      <th>Ending Position</th>\n",
       "      <th>Non-peptidic epitope Accession</th>\n",
       "      <th>Epitope Synonyms</th>\n",
       "      <th>Antigen Name</th>\n",
       "      <th>...</th>\n",
       "      <th>Object Type.1</th>\n",
       "      <th>Description.1</th>\n",
       "      <th>Starting Position.1</th>\n",
       "      <th>Ending Position.1</th>\n",
       "      <th>Non-peptidic object Accession</th>\n",
       "      <th>Synonyms</th>\n",
       "      <th>Antigen Name.1</th>\n",
       "      <th>Parent Protein.1</th>\n",
       "      <th>Organism Name.1</th>\n",
       "      <th>Parent Organism.1</th>\n",
       "    </tr>\n",
       "  </thead>\n",
       "  <tbody>\n",
       "    <tr>\n",
       "      <th>0</th>\n",
       "      <td>10</td>\n",
       "      <td>Linear peptide</td>\n",
       "      <td>AAAAAIFVI</td>\n",
       "      <td>NaN</td>\n",
       "      <td>NaN</td>\n",
       "      <td>296.0</td>\n",
       "      <td>304.0</td>\n",
       "      <td>NaN</td>\n",
       "      <td>NaN</td>\n",
       "      <td>MHC class I related protein A</td>\n",
       "      <td>...</td>\n",
       "      <td>NaN</td>\n",
       "      <td>NaN</td>\n",
       "      <td>NaN</td>\n",
       "      <td>NaN</td>\n",
       "      <td>NaN</td>\n",
       "      <td>NaN</td>\n",
       "      <td>NaN</td>\n",
       "      <td>NaN</td>\n",
       "      <td>NaN</td>\n",
       "      <td>NaN</td>\n",
       "    </tr>\n",
       "    <tr>\n",
       "      <th>1</th>\n",
       "      <td>11</td>\n",
       "      <td>Linear peptide</td>\n",
       "      <td>AAAAALDKKQRNFDKILA</td>\n",
       "      <td>NaN</td>\n",
       "      <td>NaN</td>\n",
       "      <td>1437.0</td>\n",
       "      <td>1454.0</td>\n",
       "      <td>NaN</td>\n",
       "      <td>NaN</td>\n",
       "      <td>Myosin-7</td>\n",
       "      <td>...</td>\n",
       "      <td>NaN</td>\n",
       "      <td>NaN</td>\n",
       "      <td>NaN</td>\n",
       "      <td>NaN</td>\n",
       "      <td>NaN</td>\n",
       "      <td>NaN</td>\n",
       "      <td>NaN</td>\n",
       "      <td>NaN</td>\n",
       "      <td>NaN</td>\n",
       "      <td>NaN</td>\n",
       "    </tr>\n",
       "    <tr>\n",
       "      <th>2</th>\n",
       "      <td>19</td>\n",
       "      <td>Linear peptide</td>\n",
       "      <td>AAAAKLAGLVFPQPPAPIAV</td>\n",
       "      <td>NaN</td>\n",
       "      <td>NaN</td>\n",
       "      <td>14.0</td>\n",
       "      <td>33.0</td>\n",
       "      <td>NaN</td>\n",
       "      <td>NaN</td>\n",
       "      <td>hypothetical protein Rv3878 - Mycobacterium tu...</td>\n",
       "      <td>...</td>\n",
       "      <td>NaN</td>\n",
       "      <td>NaN</td>\n",
       "      <td>NaN</td>\n",
       "      <td>NaN</td>\n",
       "      <td>NaN</td>\n",
       "      <td>NaN</td>\n",
       "      <td>NaN</td>\n",
       "      <td>NaN</td>\n",
       "      <td>NaN</td>\n",
       "      <td>NaN</td>\n",
       "    </tr>\n",
       "    <tr>\n",
       "      <th>3</th>\n",
       "      <td>28</td>\n",
       "      <td>Linear peptide</td>\n",
       "      <td>AAADVYAKTDQSLGTSLSQY</td>\n",
       "      <td>NaN</td>\n",
       "      <td>NaN</td>\n",
       "      <td>74.0</td>\n",
       "      <td>93.0</td>\n",
       "      <td>NaN</td>\n",
       "      <td>NaN</td>\n",
       "      <td>CONSERVED HYPOTHETICAL ALANINE RICH PROTEIN</td>\n",
       "      <td>...</td>\n",
       "      <td>NaN</td>\n",
       "      <td>NaN</td>\n",
       "      <td>NaN</td>\n",
       "      <td>NaN</td>\n",
       "      <td>NaN</td>\n",
       "      <td>NaN</td>\n",
       "      <td>NaN</td>\n",
       "      <td>NaN</td>\n",
       "      <td>NaN</td>\n",
       "      <td>NaN</td>\n",
       "    </tr>\n",
       "    <tr>\n",
       "      <th>4</th>\n",
       "      <td>29</td>\n",
       "      <td>Linear peptide</td>\n",
       "      <td>AAAEGVGKDNKLSVLLFTTQ</td>\n",
       "      <td>NaN</td>\n",
       "      <td>NaN</td>\n",
       "      <td>91.0</td>\n",
       "      <td>110.0</td>\n",
       "      <td>NaN</td>\n",
       "      <td>NaN</td>\n",
       "      <td>putative M2L</td>\n",
       "      <td>...</td>\n",
       "      <td>NaN</td>\n",
       "      <td>NaN</td>\n",
       "      <td>NaN</td>\n",
       "      <td>NaN</td>\n",
       "      <td>NaN</td>\n",
       "      <td>NaN</td>\n",
       "      <td>NaN</td>\n",
       "      <td>NaN</td>\n",
       "      <td>NaN</td>\n",
       "      <td>NaN</td>\n",
       "    </tr>\n",
       "  </tbody>\n",
       "</table>\n",
       "<p>5 rows × 27 columns</p>\n",
       "</div>"
      ],
      "text/plain": [
       "   Epitope ID     Object Type           Description  \\\n",
       "0          10  Linear peptide             AAAAAIFVI   \n",
       "1          11  Linear peptide    AAAAALDKKQRNFDKILA   \n",
       "2          19  Linear peptide  AAAAKLAGLVFPQPPAPIAV   \n",
       "3          28  Linear peptide  AAADVYAKTDQSLGTSLSQY   \n",
       "4          29  Linear peptide  AAAEGVGKDNKLSVLLFTTQ   \n",
       "\n",
       "  Epitope Modified Residue(s) Epitope Modification(s)  Starting Position  \\\n",
       "0                         NaN                     NaN              296.0   \n",
       "1                         NaN                     NaN             1437.0   \n",
       "2                         NaN                     NaN               14.0   \n",
       "3                         NaN                     NaN               74.0   \n",
       "4                         NaN                     NaN               91.0   \n",
       "\n",
       "   Ending Position Non-peptidic epitope Accession Epitope Synonyms  \\\n",
       "0            304.0                            NaN              NaN   \n",
       "1           1454.0                            NaN              NaN   \n",
       "2             33.0                            NaN              NaN   \n",
       "3             93.0                            NaN              NaN   \n",
       "4            110.0                            NaN              NaN   \n",
       "\n",
       "                                        Antigen Name        ...          \\\n",
       "0                      MHC class I related protein A        ...           \n",
       "1                                           Myosin-7        ...           \n",
       "2  hypothetical protein Rv3878 - Mycobacterium tu...        ...           \n",
       "3        CONSERVED HYPOTHETICAL ALANINE RICH PROTEIN        ...           \n",
       "4                                       putative M2L        ...           \n",
       "\n",
       "  Object Type.1 Description.1 Starting Position.1 Ending Position.1  \\\n",
       "0           NaN           NaN                 NaN               NaN   \n",
       "1           NaN           NaN                 NaN               NaN   \n",
       "2           NaN           NaN                 NaN               NaN   \n",
       "3           NaN           NaN                 NaN               NaN   \n",
       "4           NaN           NaN                 NaN               NaN   \n",
       "\n",
       "   Non-peptidic object Accession Synonyms Antigen Name.1 Parent Protein.1  \\\n",
       "0                            NaN      NaN            NaN              NaN   \n",
       "1                            NaN      NaN            NaN              NaN   \n",
       "2                            NaN      NaN            NaN              NaN   \n",
       "3                            NaN      NaN            NaN              NaN   \n",
       "4                            NaN      NaN            NaN              NaN   \n",
       "\n",
       "  Organism Name.1  Parent Organism.1  \n",
       "0             NaN                NaN  \n",
       "1             NaN                NaN  \n",
       "2             NaN                NaN  \n",
       "3             NaN                NaN  \n",
       "4             NaN                NaN  \n",
       "\n",
       "[5 rows x 27 columns]"
      ]
     },
     "execution_count": 2,
     "metadata": {},
     "output_type": "execute_result"
    }
   ],
   "source": [
    "df = pd.read_csv(\"/Users/vdn/Downloads/epitope_table_export_1524474677.csv\", skiprows=1)\n",
    "print(len(df))\n",
    "df.head()"
   ]
  },
  {
   "cell_type": "code",
   "execution_count": 7,
   "metadata": {},
   "outputs": [
    {
     "data": {
      "text/plain": [
       "Counter({3: 3,\n",
       "         4: 1,\n",
       "         5: 7,\n",
       "         6: 86,\n",
       "         7: 28,\n",
       "         8: 361,\n",
       "         9: 8819,\n",
       "         10: 4714,\n",
       "         11: 513,\n",
       "         12: 2152,\n",
       "         13: 660,\n",
       "         14: 1174,\n",
       "         15: 42728,\n",
       "         16: 1688,\n",
       "         17: 2414,\n",
       "         18: 4250,\n",
       "         19: 727,\n",
       "         20: 5917,\n",
       "         21: 464,\n",
       "         22: 178,\n",
       "         23: 155,\n",
       "         24: 152,\n",
       "         25: 311,\n",
       "         26: 116,\n",
       "         27: 132,\n",
       "         28: 49,\n",
       "         29: 41,\n",
       "         30: 160,\n",
       "         31: 60,\n",
       "         32: 55,\n",
       "         33: 37,\n",
       "         34: 28,\n",
       "         35: 37,\n",
       "         36: 28,\n",
       "         37: 22,\n",
       "         38: 11,\n",
       "         39: 8,\n",
       "         40: 9,\n",
       "         41: 11,\n",
       "         42: 6,\n",
       "         43: 6,\n",
       "         44: 6,\n",
       "         45: 22,\n",
       "         46: 4,\n",
       "         47: 3,\n",
       "         48: 3,\n",
       "         49: 4,\n",
       "         50: 7,\n",
       "         51: 2,\n",
       "         52: 1,\n",
       "         53: 3,\n",
       "         54: 1,\n",
       "         55: 3,\n",
       "         57: 1,\n",
       "         58: 1,\n",
       "         60: 1,\n",
       "         70: 1,\n",
       "         71: 1,\n",
       "         72: 1,\n",
       "         84: 1,\n",
       "         88: 1,\n",
       "         99: 1,\n",
       "         102: 1,\n",
       "         105: 1,\n",
       "         122: 2,\n",
       "         133: 1,\n",
       "         142: 1,\n",
       "         154: 1,\n",
       "         164: 1,\n",
       "         167: 1,\n",
       "         200: 1,\n",
       "         203: 1})"
      ]
     },
     "execution_count": 7,
     "metadata": {},
     "output_type": "execute_result"
    }
   ],
   "source": [
    "Counter(map(len, df[\"Description\"]))"
   ]
  },
  {
   "cell_type": "markdown",
   "metadata": {},
   "source": [
    "# Load the immunogenicity data"
   ]
  },
  {
   "cell_type": "code",
   "execution_count": 3,
   "metadata": {},
   "outputs": [
    {
     "name": "stdout",
     "output_type": "stream",
     "text": [
      "Counter({1: 6148, 0: 4854})\n",
      "Counter({9: 6733, 10: 2347, 8: 1100, 11: 822})\n"
     ]
    },
    {
     "data": {
      "text/plain": [
       "array([<matplotlib.axes._subplots.AxesSubplot object at 0x112b7a7b8>,\n",
       "       <matplotlib.axes._subplots.AxesSubplot object at 0x113659ac8>], dtype=object)"
      ]
     },
     "execution_count": 3,
     "metadata": {},
     "output_type": "execute_result"
    },
    {
     "data": {
      "image/png": "[encoded data removed]",
      "text/plain": [
       "<Figure size 432x288 with 2 Axes>"
      ]
     },
     "metadata": {},
     "output_type": "display_data"
    }
   ],
   "source": [
    "df = pd.read_csv(\"./immunogen/imm_classif.txt\").iloc[:, 0:3]\n",
    "\n",
    "print(Counter(df[\"Immunogenicity\"]))\n",
    "print(Counter(df[\"Length\"]))\n",
    "\n",
    "df.hist(\"Length\", \"Immunogenicity\")"
   ]
  },
  {
   "cell_type": "markdown",
   "metadata": {},
   "source": [
    "# Make dataset to feed into the network"
   ]
  },
  {
   "cell_type": "code",
   "execution_count": null,
   "metadata": {},
   "outputs": [],
   "source": []
  },
  {
   "cell_type": "markdown",
   "metadata": {},
   "source": [
    "# Make additional dataset with all combinations of HLAs per each peptide"
   ]
  },
  {
   "cell_type": "code",
   "execution_count": 4,
   "metadata": {},
   "outputs": [
    {
     "data": {
      "text/html": [
       "<div>\n",
       "<style scoped>\n",
       "    .dataframe tbody tr th:only-of-type {\n",
       "        vertical-align: middle;\n",
       "    }\n",
       "\n",
       "    .dataframe tbody tr th {\n",
       "        vertical-align: top;\n",
       "    }\n",
       "\n",
       "    .dataframe thead th {\n",
       "        text-align: right;\n",
       "    }\n",
       "</style>\n",
       "<table border=\"1\" class=\"dataframe\">\n",
       "  <thead>\n",
       "    <tr style=\"text-align: right;\">\n",
       "      <th></th>\n",
       "      <th>sequence</th>\n",
       "      <th>meas</th>\n",
       "      <th>length</th>\n",
       "      <th>mhc</th>\n",
       "    </tr>\n",
       "  </thead>\n",
       "  <tbody>\n",
       "    <tr>\n",
       "      <th>0</th>\n",
       "      <td>KLEDLERDL</td>\n",
       "      <td>1</td>\n",
       "      <td>9</td>\n",
       "      <td>HLA-A02:12</td>\n",
       "    </tr>\n",
       "    <tr>\n",
       "      <th>1</th>\n",
       "      <td>DLMGYIPLV</td>\n",
       "      <td>1</td>\n",
       "      <td>9</td>\n",
       "      <td>HLA-A02:12</td>\n",
       "    </tr>\n",
       "    <tr>\n",
       "      <th>2</th>\n",
       "      <td>QTVTSTPVQGR</td>\n",
       "      <td>1</td>\n",
       "      <td>11</td>\n",
       "      <td>HLA-A02:12</td>\n",
       "    </tr>\n",
       "    <tr>\n",
       "      <th>3</th>\n",
       "      <td>TTVYPPSSTAK</td>\n",
       "      <td>1</td>\n",
       "      <td>11</td>\n",
       "      <td>HLA-A02:12</td>\n",
       "    </tr>\n",
       "    <tr>\n",
       "      <th>4</th>\n",
       "      <td>LITGRLQSL</td>\n",
       "      <td>1</td>\n",
       "      <td>9</td>\n",
       "      <td>HLA-A02:12</td>\n",
       "    </tr>\n",
       "  </tbody>\n",
       "</table>\n",
       "</div>"
      ],
      "text/plain": [
       "      sequence  meas  length         mhc\n",
       "0    KLEDLERDL     1       9  HLA-A02:12\n",
       "1    DLMGYIPLV     1       9  HLA-A02:12\n",
       "2  QTVTSTPVQGR     1      11  HLA-A02:12\n",
       "3  TTVYPPSSTAK     1      11  HLA-A02:12\n",
       "4    LITGRLQSL     1       9  HLA-A02:12"
      ]
     },
     "execution_count": 4,
     "metadata": {},
     "output_type": "execute_result"
    }
   ],
   "source": [
    "pseudo = pd.read_csv(\"./data/pseudoseqs_hs.csv\")\n",
    "# Remove HLA-E because they are redundant here\n",
    "pseudo = pseudo.loc[~pseudo[\"mhc\"].str.contains(\"E\"), :]\n",
    "df.columns = [\"sequence\", \"meas\", \"length\"]\n",
    "df[\"mhc\"] = pseudo[\"mhc\"][10]\n",
    "df[\"meas\"] = np.where(df[\"meas\"].values == 0, 50000, 1)\n",
    "df.head()"
   ]
  },
  {
   "cell_type": "code",
   "execution_count": 351,
   "metadata": {},
   "outputs": [],
   "source": [
    "df.to_csv(\"immunogen/imm_clf.csv\")"
   ]
  },
  {
   "cell_type": "markdown",
   "metadata": {},
   "source": [
    "# Function for NN training"
   ]
  },
  {
   "cell_type": "code",
   "execution_count": 469,
   "metadata": {},
   "outputs": [],
   "source": [
    "def train(n_epochs, model, optimizer, criterion, lr, train_dl, test_dl, y_test, verbose=True):\n",
    "    optimizer = optimizer(model.parameters(), lr=lr)\n",
    "\n",
    "    for epoch in range(n_epochs):\n",
    "        model.train()\n",
    "        for pep, label in train_dl:\n",
    "            optimizer.zero_grad()\n",
    "            y_pred = model(pep)\n",
    "            loss = criterion(y_pred, label.float().view((-1, 1)))\n",
    "            loss.backward()\n",
    "            optimizer.step()\n",
    "\n",
    "        if verbose:\n",
    "            evaluate(model, test_dl, y_test, epoch, n_epochs)\n",
    "                \n",
    "                \n",
    "def evaluate(model, test_dl, y_test, epoch=None, max_epoch=None):\n",
    "    model.eval()\n",
    "    y_pred = []\n",
    "    for pep, label in test_dl:\n",
    "        y_pred.append(model(pep).item)\n",
    "\n",
    "    if epoch:\n",
    "        if epoch+1 == max_epoch:\n",
    "            print()\n",
    "            print(classification_report(y_test.long(), np.where(np.vstack(y_pred) >= .5, 1, 0)))\n",
    "        else:\n",
    "            print(round(f1_score(y_test.long(), np.where(np.vstack(y_pred) >= .5, 1, 0)), 2), end=\" \")\n",
    "        \n",
    "    return f1_score(y_test.long(), np.where(np.vstack(y_pred) >= .5, 1, 0))"
   ]
  },
  {
   "cell_type": "markdown",
   "metadata": {},
   "source": [
    "# Baseline model: some dense networks from amino acid embeddings"
   ]
  },
  {
   "cell_type": "code",
   "execution_count": 487,
   "metadata": {},
   "outputs": [
    {
     "name": "stdout",
     "output_type": "stream",
     "text": [
      "Loading pseudosequences...\n",
      "Number of pseudo MHC: 104\n",
      "File: ./immunogen/imm_clf.csv\n",
      "Loading the data...\tDone in 0.07 s\n",
      "  Source size:    11002\n",
      "  #Unknown MHC:   0\n",
      "  #Wrong lengths: 0\n",
      "Creating embeddings...\tDone in 0.15 s\n",
      "Shape of the data:\n",
      "  MHC embeddings:     (11002, 34, 20)\n",
      "  peptide embeddings: (11002, 11, 20)\n",
      "  binding affinities: (11002,)\n"
     ]
    }
   ],
   "source": [
    "embed_file = \"./aa_models/w2v_9mers_3wind_20dim_norm.pkl\"\n",
    "\n",
    "pseudo_data = load_pseudo(\"./data/\", embed_file)\n",
    "aa_channels = list(pseudo_data.values())[0].shape[1]\n",
    "\n",
    "immunogen_dataset = load_iedb(\"cnn\", \"./immunogen/imm_clf.csv\", \n",
    "                    embed_file,\n",
    "                    pseudo_data,\n",
    "                    min_len=8, max_len=11)\n",
    "\n",
    "immunogen_dataset = TensorDataset(immunogen_dataset.pep, immunogen_dataset.aff)\n",
    "\n",
    "sss = StratifiedShuffleSplit(1, random_state=42, train_size=0.8, test_size=0.2)\n",
    "for split in sss.split(immunogen_dataset, immunogen_labels):\n",
    "    train_split = split[0]\n",
    "    test_split = split[1]\n",
    "    \n",
    "X_train, y_train = immunogen_dataset[torch.from_numpy(train_split)]\n",
    "X_test, y_test = immunogen_dataset[torch.from_numpy(test_split)]\n",
    "\n",
    "X_train = X_train.view((X_train.size(0), -1))\n",
    "X_test = X_test.view((X_test.size(0), -1))"
   ]
  },
  {
   "cell_type": "code",
   "execution_count": 348,
   "metadata": {},
   "outputs": [
    {
     "data": {
      "text/plain": [
       "Sequential(\n",
       "  (0): Dropout(p=0.1)\n",
       "  (1): Linear(in_features=110, out_features=96, bias=True)\n",
       "  (2): SELU\n",
       "  (3): Dropout(p=0.3)\n",
       "  (4): Linear(in_features=96, out_features=1, bias=True)\n",
       "  (5): Dropout(p=0.3)\n",
       "  (6): Sigmoid()\n",
       ")"
      ]
     },
     "execution_count": 348,
     "metadata": {},
     "output_type": "execute_result"
    }
   ],
   "source": [
    "BATCH_SIZE=16\n",
    "\n",
    "train_data_loader = DataLoader(TensorDataset(X_train, y_train), batch_size=BATCH_SIZE, shuffle=True, num_workers=0)\n",
    "test_data_loader = DataLoader(TensorDataset(X_test, y_test), batch_size=128, shuffle=False, num_workers=0)\n",
    "\n",
    "layers = []\n",
    "layers.append(nn.Dropout(.1))\n",
    "\n",
    "layers.append(nn.Linear(X_train.size(1), 96))\n",
    "init_ku(layers[-1].weight)\n",
    "layers.append(nn.SELU())\n",
    "layers.append(nn.Dropout(.3))\n",
    "\n",
    "layers.append(nn.Linear(96, 1))\n",
    "init_ku(layers[-1].weight)\n",
    "layers.append(nn.Dropout(.3))\n",
    "layers.append(nn.Sigmoid())\n",
    "\n",
    "immunogen_model = nn.Sequential(*layers)\n",
    "immunogen_model"
   ]
  },
  {
   "cell_type": "code",
   "execution_count": 349,
   "metadata": {},
   "outputs": [
    {
     "name": "stdout",
     "output_type": "stream",
     "text": [
      "0.81 0.79 0.82 0.82 0.83 0.82 0.84 0.83 0.84 0.84 0.83 0.84 0.85 0.83 \n",
      "             precision    recall  f1-score   support\n",
      "\n",
      "          0       0.81      0.75      0.78       971\n",
      "          1       0.81      0.86      0.84      1230\n",
      "\n",
      "avg / total       0.81      0.81      0.81      2201\n",
      "\n",
      "0.85 0.85 0.85 0.85 0.85 0.85 0.85 0.85 0.85 0.85 0.85 0.85 0.85 0.85 \n",
      "             precision    recall  f1-score   support\n",
      "\n",
      "          0       0.81      0.82      0.82       971\n",
      "          1       0.86      0.85      0.85      1230\n",
      "\n",
      "avg / total       0.84      0.84      0.84      2201\n",
      "\n"
     ]
    }
   ],
   "source": [
    "N_EPOCHS=15\n",
    "LR=0.002\n",
    "optimizer = optim.RMSprop\n",
    "criterion = nn.functional.binary_cross_entropy\n",
    "\n",
    "train(N_EPOCHS, immunogen_model, optimizer, criterion, LR, train_data_loader, test_data_loader, y_test)\n",
    "train(N_EPOCHS, immunogen_model, optimizer, criterion, LR/10, train_data_loader, test_data_loader, y_test)"
   ]
  },
  {
   "cell_type": "markdown",
   "metadata": {},
   "source": [
    "## Nested CV"
   ]
  },
  {
   "cell_type": "code",
   "execution_count": 488,
   "metadata": {},
   "outputs": [],
   "source": [
    "scores = {\"baseline\": [], \"transfer\": []}"
   ]
  },
  {
   "cell_type": "code",
   "execution_count": 489,
   "metadata": {},
   "outputs": [
    {
     "name": "stdout",
     "output_type": "stream",
     "text": [
      "0.86 0.86 0.85 0.87 0.83 0.85 "
     ]
    }
   ],
   "source": [
    "def make_model():\n",
    "    layers = []\n",
    "    layers.append(nn.Dropout(.1))\n",
    "\n",
    "    layers.append(nn.Linear(X_train.size(1), 96))\n",
    "    init_ku(layers[-1].weight)\n",
    "    layers.append(nn.SELU())\n",
    "    layers.append(nn.Dropout(.3))\n",
    "\n",
    "    layers.append(nn.Linear(96, 1))\n",
    "    init_ku(layers[-1].weight)\n",
    "    layers.append(nn.Dropout(.3))\n",
    "    layers.append(nn.Sigmoid())\n",
    "\n",
    "    return nn.Sequential(*layers)\n",
    "\n",
    "\n",
    "BATCH_SIZE=16\n",
    "N_EPOCHS=15\n",
    "LR=0.002\n",
    "N_FOLDS=8\n",
    "\n",
    "cv = StratifiedKFold(N_FOLDS, shuffle=True, random_state=42)\n",
    "scores[\"baseline\"] = []\n",
    "for split in cv_outer.split(immunogen_dataset, immunogen_labels):\n",
    "    train_split = split[0]\n",
    "    test_split = split[1]\n",
    "    \n",
    "    X_train, y_train = immunogen_dataset[torch.from_numpy(train_split)]\n",
    "    X_test, y_test = immunogen_dataset[torch.from_numpy(test_split)]\n",
    "    \n",
    "    X_train = X_train.view((X_train.size(0), -1))\n",
    "    X_test = X_test.view((X_test.size(0), -1))\n",
    "    \n",
    "    train_data_loader = DataLoader(TensorDataset(X_train, y_train), batch_size=BATCH_SIZE, shuffle=True, num_workers=0)\n",
    "    test_data_loader = DataLoader(TensorDataset(X_test, y_test), batch_size=64, shuffle=False, num_workers=0)\n",
    "    \n",
    "    optimizer = optim.RMSprop\n",
    "    criterion = nn.functional.binary_cross_entropy\n",
    "    immunogen_model = make_model()\n",
    "\n",
    "    train(N_EPOCHS, immunogen_model, optimizer, criterion, LR, train_data_loader, test_data_loader, y_val, False)\n",
    "    train(N_EPOCHS, immunogen_model, optimizer, criterion, LR/10, train_data_loader, test_data_loader, y_val, False)\n",
    "    print(round(evaluate(immunogen_model, test_data_loader, y_test), 2), end=\" \")\n",
    "\n",
    "    fin = evaluate(immunogen_model, test_data_loader, y_test)\n",
    "    scores[\"baseline\"].append(fin)"
   ]
  },
  {
   "cell_type": "markdown",
   "metadata": {},
   "source": [
    "# Run the model and obtain peptide embeddings for each dataset"
   ]
  },
  {
   "cell_type": "code",
   "execution_count": 490,
   "metadata": {},
   "outputs": [
    {
     "name": "stdout",
     "output_type": "stream",
     "text": [
      "Loading pseudosequences...\n",
      "Number of pseudo MHC: 104\n",
      "File: ./immunogen/imm_clf.csv\n",
      "Loading the data...\tDone in 0.09 s\n",
      "  Source size:    11002\n",
      "  #Unknown MHC:   0\n",
      "  #Wrong lengths: 0\n",
      "Creating embeddings...\tDone in 0.19 s\n",
      "Shape of the data:\n",
      "  MHC embeddings:     (11002, 34, 20)\n",
      "  peptide embeddings: (11002, 11, 20)\n",
      "  binding affinities: (11002,)\n"
     ]
    }
   ],
   "source": [
    "embed_file = \"./aa_models/w2v_9mers_3wind_20dim_norm.pkl\"\n",
    "# embed_file = \"./aa_models/kidera.pkl\"\n",
    "\n",
    "pseudo_data = load_pseudo(\"./data/\", embed_file)\n",
    "aa_channels = list(pseudo_data.values())[0].shape[1]\n",
    "\n",
    "dataset = load_iedb(\"cnn\", \"./immunogen/imm_clf.csv\", \n",
    "                    embed_file,\n",
    "                    pseudo_data,\n",
    "                    min_len=8, max_len=11)"
   ]
  },
  {
   "cell_type": "code",
   "execution_count": 491,
   "metadata": {},
   "outputs": [],
   "source": [
    "model = ResNet(64, 34, 11, 4, 4, aa_channels, 3, [128, 128], .2, .2, .2)\n",
    "state_dict = torch.load(\"immunogen/model_wei_w2v20n_synth_e40_b32_mhc4_pep4_lin128-128_filters64_filters64.pt\")\n",
    "model.load_state_dict(state_dict)\n",
    "model = model.eval()"
   ]
  },
  {
   "cell_type": "code",
   "execution_count": 425,
   "metadata": {},
   "outputs": [
    {
     "name": "stdout",
     "output_type": "stream",
     "text": [
      "torch.Size([1, 704])\n",
      "torch.Size([1, 128])\n"
     ]
    }
   ],
   "source": [
    "pep_emb = model.get_embeddings(Variable(dataset[0][0].contiguous().view((1, aa_channels, -1))),\n",
    "                               Variable(dataset[0][1].contiguous().view((1, aa_channels, -1))))\n",
    "print(pep_emb[1].size())\n",
    "print(pep_emb[2].size())"
   ]
  },
  {
   "cell_type": "markdown",
   "metadata": {},
   "source": [
    "# Train a new model using embeddings as inputs"
   ]
  },
  {
   "cell_type": "code",
   "execution_count": 492,
   "metadata": {},
   "outputs": [
    {
     "name": "stderr",
     "output_type": "stream",
     "text": [
      "100%|██████████| 11002/11002 [01:02<00:00, 175.94it/s]\n"
     ]
    }
   ],
   "source": [
    "immunogen_raw = []\n",
    "immunogen_labels = dataset.aff\n",
    "for i in trange(len(dataset)):\n",
    "    mhc, pep, length, aff = dataset[i]\n",
    "    pep_emb = model.get_embeddings(Variable(mhc.contiguous().view((1, aa_channels, -1))),\n",
    "                                   Variable(pep.contiguous().view((1, aa_channels, -1))))[1]\n",
    "    immunogen_raw.append(pep_emb)"
   ]
  },
  {
   "cell_type": "code",
   "execution_count": 493,
   "metadata": {},
   "outputs": [
    {
     "name": "stdout",
     "output_type": "stream",
     "text": [
      "torch.Size([11002, 704])\n",
      "6148.0\n"
     ]
    }
   ],
   "source": [
    "immunogen_dataset = torch.cat(immunogen_raw, 0)\n",
    "print(immunogen_dataset.size())\n",
    "immunogen_dataset = TensorDataset(immunogen_dataset, immunogen_labels)\n",
    "print(immunogen_labels.sum())\n",
    "\n",
    "sss = StratifiedShuffleSplit(1, random_state=42, train_size=0.8, test_size=0.2)\n",
    "for split in sss.split(immunogen_dataset, immunogen_labels):\n",
    "    train_split = split[0]\n",
    "    test_split = split[1]\n",
    "    \n",
    "X_train, y_train = immunogen_dataset[torch.from_numpy(train_split)]\n",
    "X_test, y_test = immunogen_dataset[torch.from_numpy(test_split)]"
   ]
  },
  {
   "cell_type": "code",
   "execution_count": 478,
   "metadata": {},
   "outputs": [
    {
     "data": {
      "text/plain": [
       "Sequential(\n",
       "  (0): Dropout(p=0.4)\n",
       "  (1): Linear(in_features=704, out_features=32, bias=True)\n",
       "  (2): SELU\n",
       "  (3): Dropout(p=0.3)\n",
       "  (4): Linear(in_features=32, out_features=1, bias=True)\n",
       "  (5): Dropout(p=0.3)\n",
       "  (6): Sigmoid()\n",
       ")"
      ]
     },
     "execution_count": 478,
     "metadata": {},
     "output_type": "execute_result"
    }
   ],
   "source": [
    "BATCH_SIZE=16\n",
    "\n",
    "train_data_loader = DataLoader(TensorDataset(X_train, y_train), batch_size=BATCH_SIZE, shuffle=True, num_workers=0)\n",
    "test_data_loader = DataLoader(TensorDataset(X_test, y_test), batch_size=128, shuffle=False, num_workers=0)\n",
    "\n",
    "layers = []\n",
    "layers.append(nn.Dropout(.4))\n",
    "\n",
    "layers.append(nn.Linear(X_train.size(1), 32))\n",
    "init_ku(layers[-1].weight)\n",
    "layers.append(nn.SELU())\n",
    "layers.append(nn.Dropout(.3))\n",
    "\n",
    "layers.append(nn.Linear(32, 1))\n",
    "init_ku(layers[-1].weight)\n",
    "layers.append(nn.Dropout(.3))\n",
    "layers.append(nn.Sigmoid())\n",
    "\n",
    "immunogen_model = nn.Sequential(*layers)\n",
    "immunogen_model"
   ]
  },
  {
   "cell_type": "code",
   "execution_count": 480,
   "metadata": {},
   "outputs": [
    {
     "name": "stdout",
     "output_type": "stream",
     "text": [
      "0.85 0.85 0.85 0.85 0.85 0.85 0.86 0.85 0.86 0.85 0.85 0.86 0.86 \n",
      "             precision    recall  f1-score   support\n",
      "\n",
      "          0       0.85      0.75      0.80       971\n",
      "          1       0.82      0.89      0.86      1230\n",
      "\n",
      "avg / total       0.83      0.83      0.83      2201\n",
      "\n",
      "0.86 0.86 0.86 0.86 0.86 0.86 0.86 0.86 0.87 0.86 0.86 0.86 0.86 \n",
      "             precision    recall  f1-score   support\n",
      "\n",
      "          0       0.85      0.80      0.82       971\n",
      "          1       0.85      0.89      0.87      1230\n",
      "\n",
      "avg / total       0.85      0.85      0.85      2201\n",
      "\n"
     ]
    }
   ],
   "source": [
    "N_EPOCHS=15\n",
    "LR=0.002\n",
    "optimizer = optim.RMSprop\n",
    "criterion = nn.functional.binary_cross_entropy\n",
    "\n",
    "train(N_EPOCHS, immunogen_model, optimizer, criterion, LR, train_data_loader, test_data_loader, y_test)\n",
    "train(N_EPOCHS, immunogen_model, optimizer, criterion, LR/10, train_data_loader, test_data_loader, y_test)"
   ]
  },
  {
   "cell_type": "code",
   "execution_count": 494,
   "metadata": {},
   "outputs": [
    {
     "name": "stdout",
     "output_type": "stream",
     "text": [
      "0.87 0.87 0.86 0.88 0.85 0.86 "
     ]
    }
   ],
   "source": [
    "def make_model():\n",
    "    layers = []\n",
    "    layers.append(nn.Dropout(.4))\n",
    "\n",
    "    layers.append(nn.Linear(X_train.size(1), 32))\n",
    "    init_ku(layers[-1].weight)\n",
    "    layers.append(nn.SELU())\n",
    "    layers.append(nn.Dropout(.3))\n",
    "\n",
    "    layers.append(nn.Linear(32, 1))\n",
    "    init_ku(layers[-1].weight)\n",
    "    layers.append(nn.Dropout(.3))\n",
    "    layers.append(nn.Sigmoid())\n",
    "\n",
    "    return nn.Sequential(*layers)\n",
    "\n",
    "\n",
    "BATCH_SIZE=16\n",
    "N_EPOCHS=15\n",
    "LR=0.002\n",
    "N_FOLDS=8\n",
    "\n",
    "cv = StratifiedKFold(N_FOLDS, shuffle=True, random_state=42)\n",
    "scores[\"transfer\"] = []\n",
    "for split in cv_outer.split(immunogen_dataset, immunogen_labels):\n",
    "    train_split = split[0]\n",
    "    test_split = split[1]\n",
    "    \n",
    "    X_train, y_train = immunogen_dataset[torch.from_numpy(train_split)]\n",
    "    X_test, y_test = immunogen_dataset[torch.from_numpy(test_split)]\n",
    "    \n",
    "    X_train = X_train.view((X_train.size(0), -1))\n",
    "    X_test = X_test.view((X_test.size(0), -1))\n",
    "    \n",
    "    train_data_loader = DataLoader(TensorDataset(X_train, y_train), batch_size=BATCH_SIZE, shuffle=True, num_workers=0)\n",
    "    test_data_loader = DataLoader(TensorDataset(X_test, y_test), batch_size=64, shuffle=False, num_workers=0)\n",
    "    \n",
    "    optimizer = optim.RMSprop\n",
    "    criterion = nn.functional.binary_cross_entropy\n",
    "    immunogen_model = make_model()\n",
    "\n",
    "    train(N_EPOCHS, immunogen_model, optimizer, criterion, LR, train_data_loader, test_data_loader, y_val, False)\n",
    "    train(N_EPOCHS, immunogen_model, optimizer, criterion, LR/10, train_data_loader, test_data_loader, y_val, False)\n",
    "    print(round(evaluate(immunogen_model, test_data_loader, y_test), 2), end=\" \")\n",
    "\n",
    "    fin = evaluate(immunogen_model, test_data_loader, y_test)\n",
    "    scores[\"transfer\"].append(fin)"
   ]
  },
  {
   "cell_type": "code",
   "execution_count": 495,
   "metadata": {},
   "outputs": [
    {
     "data": {
      "text/plain": [
       "Text(0.5,1,'transfer')"
      ]
     },
     "execution_count": 495,
     "metadata": {},
     "output_type": "execute_result"
    },
    {
     "data": {
      "image/png": "[encoded data removed]",
      "text/plain": [
       "<Figure size 432x288 with 2 Axes>"
      ]
     },
     "metadata": {},
     "output_type": "display_data"
    }
   ],
   "source": [
    "from matplotlib import pyplot as plt\n",
    "\n",
    "fig, ax = plt.subplots(1, 2, sharey=True)\n",
    "\n",
    "_ = ax[0].boxplot(scores[\"baseline\"])\n",
    "ax[0].set_title(\"baseline\")\n",
    "\n",
    "_ = ax[1].boxplot(scores[\"transfer\"])\n",
    "ax[1].set_title(\"transfer\")"
   ]
  },
  {
   "cell_type": "code",
   "execution_count": 502,
   "metadata": {},
   "outputs": [],
   "source": [
    "def get_preds(model, test_dl, y_test, epoch=None, max_epoch=None):\n",
    "    model.eval()\n",
    "    y_pred = []\n",
    "    for pep, label in test_dl:\n",
    "        y_pred.append(model(Variable(pep, requires_grad=False)).data)\n",
    "\n",
    "    if epoch:\n",
    "        if epoch+1 == max_epoch:\n",
    "            print()\n",
    "            print(classification_report(y_test.long(), np.where(np.vstack(y_pred) >= .5, 1, 0)))\n",
    "        else:\n",
    "            print(round(f1_score(y_test.long(), np.where(np.vstack(y_pred) >= .5, 1, 0)), 2), end=\" \")\n",
    "        \n",
    "    return np.vstack(y_pred)"
   ]
  },
  {
   "cell_type": "code",
   "execution_count": null,
   "metadata": {},
   "outputs": [],
   "source": [
    "sss = StratifiedShuffleSplit(1, random_state=42, train_size=0.8, test_size=0.2)\n",
    "for split in sss.split(immunogen_dataset, immunogen_labels):\n",
    "    train_split = split[0]\n",
    "    test_split = split[1]\n",
    "    \n",
    "X_train, y_train = immunogen_dataset[torch.from_numpy(train_split)]\n",
    "X_test, y_test = immunogen_dataset[torch.from_numpy(test_split)]\n",
    "\n",
    "BATCH_SIZE=16\n",
    "\n",
    "train_data_loader = DataLoader(TensorDataset(X_train, y_train), batch_size=BATCH_SIZE, shuffle=True, num_workers=0)\n",
    "test_data_loader = DataLoader(TensorDataset(X_test, y_test), batch_size=128, shuffle=False, num_workers=0)"
   ]
  },
  {
   "cell_type": "code",
   "execution_count": 531,
   "metadata": {},
   "outputs": [],
   "source": [
    "model_list = []"
   ]
  },
  {
   "cell_type": "code",
   "execution_count": 532,
   "metadata": {},
   "outputs": [],
   "source": [
    "for i in range(20):\n",
    "    layers = []\n",
    "    layers.append(nn.Dropout(.5))\n",
    "\n",
    "    layers.append(nn.Linear(X_train.size(1), 64))\n",
    "    init_ku(layers[-1].weight)\n",
    "    layers.append(nn.SELU())\n",
    "    layers.append(nn.Dropout(.5))\n",
    "\n",
    "    layers.append(nn.Linear(64, 1))\n",
    "    init_ku(layers[-1].weight)\n",
    "    layers.append(nn.Dropout(.5))\n",
    "    layers.append(nn.Sigmoid())\n",
    "\n",
    "    immunogen_model = nn.Sequential(*layers)\n",
    "\n",
    "    N_EPOCHS=20\n",
    "    LR=0.002\n",
    "    optimizer = optim.RMSprop\n",
    "    criterion = nn.functional.binary_cross_entropy\n",
    "\n",
    "    train(N_EPOCHS, immunogen_model, optimizer, criterion, LR, train_data_loader, test_data_loader, y_test, verbose=False)\n",
    "    train(N_EPOCHS, immunogen_model, optimizer, criterion, LR/10, train_data_loader, test_data_loader, y_test, verbose=False)\n",
    "    model_list.append(immunogen_model)"
   ]
  },
  {
   "cell_type": "code",
   "execution_count": 533,
   "metadata": {},
   "outputs": [],
   "source": [
    "final_preds = get_preds(model_list[0], test_data_loader, y_test)\n",
    "for submodel in model_list[1:]:\n",
    "    final_preds = np.hstack([final_preds, get_preds(submodel, test_data_loader, y_test)])"
   ]
  },
  {
   "cell_type": "code",
   "execution_count": 534,
   "metadata": {},
   "outputs": [
    {
     "name": "stdout",
     "output_type": "stream",
     "text": [
      "             precision    recall  f1-score   support\n",
      "\n",
      "          0       0.81      0.78      0.79       971\n",
      "          1       0.83      0.86      0.84      1230\n",
      "\n",
      "avg / total       0.82      0.82      0.82      2201\n",
      "\n",
      "             precision    recall  f1-score   support\n",
      "\n",
      "          0       0.82      0.77      0.79       971\n",
      "          1       0.83      0.86      0.85      1230\n",
      "\n",
      "avg / total       0.82      0.82      0.82      2201\n",
      "\n",
      "             precision    recall  f1-score   support\n",
      "\n",
      "          0       0.81      0.78      0.79       971\n",
      "          1       0.83      0.86      0.84      1230\n",
      "\n",
      "avg / total       0.82      0.82      0.82      2201\n",
      "\n"
     ]
    }
   ],
   "source": [
    "from scipy.stats import gmean\n",
    "\n",
    "print(classification_report(y_test.long(), np.where(np.mean(final_preds, 1) >= .5, 1, 0)))\n",
    "print(classification_report(y_test.long(), np.where(np.median(final_preds, 1) >= .5, 1, 0)))\n",
    "print(classification_report(y_test.long(), np.where(gmean(final_preds, 1) >= .5, 1, 0)))"
   ]
  },
  {
   "cell_type": "code",
   "execution_count": null,
   "metadata": {},
   "outputs": [],
   "source": []
  },
  {
   "cell_type": "code",
   "execution_count": null,
   "metadata": {},
   "outputs": [],
   "source": []
  },
  {
   "cell_type": "code",
   "execution_count": null,
   "metadata": {},
   "outputs": [],
   "source": [
    "128*64 + 64*64"
   ]
  },
  {
   "cell_type": "code",
   "execution_count": null,
   "metadata": {},
   "outputs": [],
   "source": [
    "700*32 + 32*32"
   ]
  },
  {
   "cell_type": "code",
   "execution_count": 430,
   "metadata": {},
   "outputs": [
    {
     "data": {
      "text/plain": [
       "27264"
      ]
     },
     "execution_count": 430,
     "metadata": {},
     "output_type": "execute_result"
    }
   ],
   "source": [
    "220*96 + 96*64"
   ]
  }
 ],
 "metadata": {
  "kernelspec": {
   "display_name": "Python 3",
   "language": "python",
   "name": "python3"
  },
  "language_info": {
   "codemirror_mode": {
    "name": "ipython",
    "version": 3
   },
   "file_extension": ".py",
   "mimetype": "text/x-python",
   "name": "python",
   "nbconvert_exporter": "python",
   "pygments_lexer": "ipython3",
   "version": "3.5.5"
  }
 },
 "nbformat": 4,
 "nbformat_minor": 2
}
